{
  "nbformat": 4,
  "nbformat_minor": 0,
  "metadata": {
    "colab": {
      "name": "Frozen Lake.ipynb",
      "provenance": [],
      "collapsed_sections": [],
      "authorship_tag": "ABX9TyPhL38e/cUa5Gpog3Nqn2hZ",
      "include_colab_link": true
    },
    "kernelspec": {
      "name": "python3",
      "display_name": "Python 3"
    }
  },
  "cells": [
    {
      "cell_type": "markdown",
      "metadata": {
        "id": "view-in-github",
        "colab_type": "text"
      },
      "source": [
        "<a href=\"https://colab.research.google.com/github/vaibhavsundharam/Reinforcement-Learning/blob/master/Frozen_Lake.ipynb\" target=\"_parent\"><img src=\"https://colab.research.google.com/assets/colab-badge.svg\" alt=\"Open In Colab\"/></a>"
      ]
    },
    {
      "cell_type": "code",
      "metadata": {
        "id": "Jo2k0nGY70KY",
        "colab_type": "code",
        "colab": {}
      },
      "source": [
        "import numpy as np\n",
        "import gym\n",
        "import random\n",
        "import time\n",
        "from IPython.display import clear_output"
      ],
      "execution_count": 63,
      "outputs": []
    },
    {
      "cell_type": "code",
      "metadata": {
        "id": "AzI9XoNR8zcG",
        "colab_type": "code",
        "colab": {}
      },
      "source": [
        "env = gym.make(\"FrozenLake-v0\")"
      ],
      "execution_count": 64,
      "outputs": []
    },
    {
      "cell_type": "markdown",
      "metadata": {
        "id": "ZjnkYn_BhKNZ",
        "colab_type": "text"
      },
      "source": [
        "![picture](https://drive.google.com/uc?export=view&id=1sYLfRnr038fyJP00IFcHIVtOkmm5hi5s)\n",
        "\n",
        "![picture](https://drive.google.com/uc?export=view&id=1NemjZOv4SMbAVce6IfBfKo45BoRAlKJb)\n"
      ]
    },
    {
      "cell_type": "code",
      "metadata": {
        "id": "JAgf7MSrAGLq",
        "colab_type": "code",
        "colab": {
          "base_uri": "https://localhost:8080/",
          "height": 295
        },
        "outputId": "2ab8c85e-d3ed-47e9-c95f-fbc132246095"
      },
      "source": [
        "action_space_size = env.action_space.n\n",
        "state_space_size = env.observation_space.n\n",
        "\n",
        "q_table = np.zeros((state_space_size, action_space_size))\n",
        "print(q_table)"
      ],
      "execution_count": 65,
      "outputs": [
        {
          "output_type": "stream",
          "text": [
            "[[0. 0. 0. 0.]\n",
            " [0. 0. 0. 0.]\n",
            " [0. 0. 0. 0.]\n",
            " [0. 0. 0. 0.]\n",
            " [0. 0. 0. 0.]\n",
            " [0. 0. 0. 0.]\n",
            " [0. 0. 0. 0.]\n",
            " [0. 0. 0. 0.]\n",
            " [0. 0. 0. 0.]\n",
            " [0. 0. 0. 0.]\n",
            " [0. 0. 0. 0.]\n",
            " [0. 0. 0. 0.]\n",
            " [0. 0. 0. 0.]\n",
            " [0. 0. 0. 0.]\n",
            " [0. 0. 0. 0.]\n",
            " [0. 0. 0. 0.]]\n"
          ],
          "name": "stdout"
        }
      ]
    },
    {
      "cell_type": "markdown",
      "metadata": {
        "id": "Stcv4b3DbcXg",
        "colab_type": "text"
      },
      "source": [
        "#Training"
      ]
    },
    {
      "cell_type": "code",
      "metadata": {
        "id": "NOKJ_S0yAjD4",
        "colab_type": "code",
        "colab": {}
      },
      "source": [
        "max_episodes = 20000 # maximum episodes the agent will play\n",
        "max_steps_per_episode = 100 # maximum steps/episode, after which the episode will terminate\n",
        "\n",
        "learning_rate = 0.1\n",
        "discount_rate = 0.99\n",
        "\n",
        "exploration_rate = 1\n",
        "max_exploration_rate = 1\n",
        "min_exploration_rate = 0.01\n",
        "exploration_decay_rate = 0.001"
      ],
      "execution_count": 66,
      "outputs": []
    },
    {
      "cell_type": "markdown",
      "metadata": {
        "id": "87DLOkYZiXVf",
        "colab_type": "text"
      },
      "source": [
        "![picture](https://drive.google.com/uc?export=view&id=1t3_Y-IWJA8sPttnXMqUW5nJXR18dGMay)"
      ]
    },
    {
      "cell_type": "code",
      "metadata": {
        "id": "woRxsIweCz0W",
        "colab_type": "code",
        "colab": {}
      },
      "source": [
        "rewards_all_episodes = []\n",
        "#Q-Learning algorithm\n",
        "for episode in range(max_episodes): # iterating through each episode\n",
        "  state = env.reset() # resetting the state of the environment  \n",
        "  done = False\n",
        "  rewards_current_episode = 0 # for keepig track of the current episode's rewards  \n",
        "  for step in range(max_steps_per_episode): #going through each time step\n",
        "    threshold = random.uniform(0,1)\n",
        "    if threshold > exploration_rate:\n",
        "      action = np.argmax(q_table[state,:]) #exploit the environment\n",
        "    else:\n",
        "      action = env.action_space.sample()\n",
        "      \n",
        "    new_state, reward, done, info = env.step(action) # based on the action, take the next step\n",
        "    # Update Q-table for Q(s,a)\n",
        "    q_table[state, action] = q_table[state, action] * (1 - learning_rate) + learning_rate * (reward + discount_rate * np.max(q_table[new_state, :]))\n",
        "    state = new_state\n",
        "    rewards_current_episode += reward \n",
        "    if done == True: \n",
        "      break\n",
        "  exploration_rate = min_exploration_rate + (max_exploration_rate - min_exploration_rate) * np.exp(-exploration_decay_rate*episode)\n",
        "  rewards_all_episodes.append(rewards_current_episode)"
      ],
      "execution_count": 67,
      "outputs": []
    },
    {
      "cell_type": "code",
      "metadata": {
        "id": "nGh9hAYhZCWh",
        "colab_type": "code",
        "colab": {
          "base_uri": "https://localhost:8080/",
          "height": 399
        },
        "outputId": "acbfe6b3-9948-44b3-9d0c-8b028ab73918"
      },
      "source": [
        "# Calculate and print the average reward per thousand episodes\n",
        "rewards_per_thousand_episodes = np.split(np.array(rewards_all_episodes),max_episodes/1000)\n",
        "count = 1000\n",
        "\n",
        "print(\"********Average reward per thousand episodes********\\n\")\n",
        "for r in rewards_per_thousand_episodes:\n",
        "    print(count, \": \", str(sum(r/1000)))\n",
        "    count += 1000"
      ],
      "execution_count": 68,
      "outputs": [
        {
          "output_type": "stream",
          "text": [
            "********Average reward per thousand episodes********\n",
            "\n",
            "1000 :  0.05300000000000004\n",
            "2000 :  0.22400000000000017\n",
            "3000 :  0.4040000000000003\n",
            "4000 :  0.5720000000000004\n",
            "5000 :  0.6260000000000004\n",
            "6000 :  0.6590000000000005\n",
            "7000 :  0.6820000000000005\n",
            "8000 :  0.6920000000000005\n",
            "9000 :  0.6980000000000005\n",
            "10000 :  0.6880000000000005\n",
            "11000 :  0.6680000000000005\n",
            "12000 :  0.6670000000000005\n",
            "13000 :  0.6920000000000005\n",
            "14000 :  0.7140000000000005\n",
            "15000 :  0.6710000000000005\n",
            "16000 :  0.6680000000000005\n",
            "17000 :  0.6810000000000005\n",
            "18000 :  0.6860000000000005\n",
            "19000 :  0.7120000000000005\n",
            "20000 :  0.6500000000000005\n"
          ],
          "name": "stdout"
        }
      ]
    },
    {
      "cell_type": "code",
      "metadata": {
        "id": "MoKwvaZYa-8p",
        "colab_type": "code",
        "colab": {
          "base_uri": "https://localhost:8080/",
          "height": 364
        },
        "outputId": "3e27fab2-7efe-403e-bcde-25bd3eeac61a"
      },
      "source": [
        "# Print updated Q-table\n",
        "print(\"\\n\\n********Q-table********\\n\")\n",
        "print(q_table)"
      ],
      "execution_count": 69,
      "outputs": [
        {
          "output_type": "stream",
          "text": [
            "\n",
            "\n",
            "********Q-table********\n",
            "\n",
            "[[0.56876979 0.4925851  0.50444913 0.5178475 ]\n",
            " [0.32525333 0.41438    0.29932162 0.51182251]\n",
            " [0.40167133 0.40219037 0.40272377 0.47377083]\n",
            " [0.32483898 0.30936202 0.2939688  0.44210205]\n",
            " [0.59640216 0.40920151 0.21813394 0.35354891]\n",
            " [0.         0.         0.         0.        ]\n",
            " [0.18524233 0.15901996 0.38941163 0.09132523]\n",
            " [0.         0.         0.         0.        ]\n",
            " [0.35235957 0.44136669 0.42536137 0.62886099]\n",
            " [0.35353834 0.71308457 0.5351368  0.45735076]\n",
            " [0.58818612 0.39442063 0.32214048 0.35394189]\n",
            " [0.         0.         0.         0.        ]\n",
            " [0.         0.         0.         0.        ]\n",
            " [0.41532661 0.5554814  0.79777551 0.45837553]\n",
            " [0.74149194 0.92397696 0.72636636 0.71271619]\n",
            " [0.         0.         0.         0.        ]]\n"
          ],
          "name": "stdout"
        }
      ]
    },
    {
      "cell_type": "markdown",
      "metadata": {
        "id": "wsqsk8U9bfkT",
        "colab_type": "text"
      },
      "source": [
        "#Testing"
      ]
    },
    {
      "cell_type": "code",
      "metadata": {
        "id": "Wl6PrLYgbiSk",
        "colab_type": "code",
        "colab": {
          "base_uri": "https://localhost:8080/",
          "height": 121
        },
        "outputId": "113b6ac7-ccb7-475c-940e-c1a4394b9666"
      },
      "source": [
        "for episode in range(3):\n",
        "  state = env.reset()\n",
        "  done = False\n",
        "  print(\"*****EPISODE \", episode+1, \"*****\\n\\n\\n\\n\")\n",
        "  time.sleep(1)\n",
        "  for step in range(max_steps_per_episode):\n",
        "    clear_output(wait=True)\n",
        "    env.render()\n",
        "    time.sleep(0.4)\n",
        "    action = np.argmax(q_table[state,:])\n",
        "    new_state, reward, done, info = env.step(action)\n",
        "    if done:\n",
        "      clear_output(wait=True)\n",
        "      env.render()\n",
        "      if reward == 1:\n",
        "          print(\"****You reached the goal!****\")\n",
        "          time.sleep(3)\n",
        "      else:\n",
        "          print(\"****You fell through a hole!****\")\n",
        "          time.sleep(3)\n",
        "          clear_output(wait=True)\n",
        "      break\n",
        "    state = new_state\n",
        "env.close()\n"
      ],
      "execution_count": 71,
      "outputs": [
        {
          "output_type": "stream",
          "text": [
            "  (Down)\n",
            "SFFF\n",
            "FHFH\n",
            "FFFH\n",
            "HFF\u001b[41mG\u001b[0m\n",
            "****You reached the goal!****\n"
          ],
          "name": "stdout"
        }
      ]
    }
  ]
}